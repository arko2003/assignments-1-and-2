{
 "cells": [
  {
   "cell_type": "code",
   "execution_count": 4,
   "id": "c731baf7",
   "metadata": {},
   "outputs": [],
   "source": [
    "#Question 2\n",
    "#a. creating a Dataframe named as students using a list of names of 5 students"
   ]
  },
  {
   "cell_type": "code",
   "execution_count": 5,
   "id": "8521d554",
   "metadata": {},
   "outputs": [],
   "source": [
    "import pandas as pd"
   ]
  },
  {
   "cell_type": "code",
   "execution_count": 24,
   "id": "55e5d132",
   "metadata": {},
   "outputs": [
    {
     "name": "stdout",
     "output_type": "stream",
     "text": [
      "  Students names\n",
      "0        Solomon\n",
      "1          Gyesi\n",
      "2           Obed\n",
      "3       Samantha\n",
      "4         Philip\n"
     ]
    }
   ],
   "source": [
    "names=['Solomon','Gyesi','Obed','Samantha','Philip']\n",
    "stulist=pd.DataFrame(names,columns=['Students names'])\n",
    "print(stulist)"
   ]
  },
  {
   "cell_type": "code",
   "execution_count": 13,
   "id": "dcce6ff0",
   "metadata": {},
   "outputs": [],
   "source": [
    "#b. writing a program to create a DataFrame teams using a list of names of Ghana Premier League Teams and the goals they scored in their previous five matches. "
   ]
  },
  {
   "cell_type": "code",
   "execution_count": 20,
   "id": "7b68b03c",
   "metadata": {},
   "outputs": [
    {
     "name": "stdout",
     "output_type": "stream",
     "text": [
      "                 Teams  Match 1  Match 2  Match 3  Match 4  Match 5\n",
      "0  Accra Hearts of Oak        2        1        3        0        4\n",
      "1        Asante Kotoko        0        1        3        2        1\n",
      "2        Ebusua Dwarfs        1        2        2        0        0\n",
      "3     Sekondi Hassacas        2        1        1        0        1\n",
      "4        Okwahu United        0        0        3        1        0\n",
      "5        Tano Bofoakwa        1        1        0        2        2\n",
      "6            BA United        2        2        0        1        1\n"
     ]
    }
   ],
   "source": [
    "GhanaPremierLeague_data=[\n",
    "    ['Accra Hearts of Oak',2, 1, 3, 0, 4],\n",
    "    ['Asante Kotoko',0, 1, 3, 2, 1],\n",
    "    ['Ebusua Dwarfs',1, 2, 2, 0, 0],\n",
    "    ['Sekondi Hassacas',2, 1, 1, 0, 1],\n",
    "    ['Okwahu United',0, 0, 3, 1, 0],\n",
    "    ['Tano Bofoakwa',1, 1, 0, 2, 2],\n",
    "    ['BA United', 2, 2, 0, 1, 1],\n",
    "    ]\n",
    "GPL= pd.DataFrame(GhanaPremierLeague_data, columns=['Teams', 'Match 1', 'Match 2', 'Match 3', 'Match 4', 'Match 5'])\n",
    "print(GPL)"
   ]
  },
  {
   "cell_type": "code",
   "execution_count": 15,
   "id": "f567704d",
   "metadata": {},
   "outputs": [
    {
     "name": "stdout",
     "output_type": "stream",
     "text": [
      "  country name     Capital  Population\n",
      "0        Ghana       Accra    31072940\n",
      "1      Nigeria       Abuja   206139589\n",
      "2        Benin  Port-norvo    12123200\n",
      "3         Togo        Lome     8278724\n",
      "4      Liberia    Capetown    20903273\n"
     ]
    }
   ],
   "source": [
    "#c. writing a program to create a DataFrame countries using a dictionary which stored country name, capitals, and populations of the country. Do this for West African Countries.\n",
    "westAfrica={\n",
    "    'country name':['Ghana','Nigeria','Benin','Togo','Liberia'],\n",
    "    'Capital':['Accra','Abuja','Port-norvo','Lome','Capetown'],\n",
    "    'Population':[31072940,206139589,12123200,8278724,20903273]\n",
    "}\n",
    "countries=pd.DataFrame(westAfrica)\n",
    "print(countries)"
   ]
  },
  {
   "cell_type": "code",
   "execution_count": 22,
   "id": "1eb00100",
   "metadata": {
    "scrolled": true
   },
   "outputs": [
    {
     "name": "stdout",
     "output_type": "stream",
     "text": [
      "Teams that considered more than 30 goals: \n",
      "   SNO              Team  GF  GA  PTS\n",
      "1    2     Asante Kotoko  90  55   60\n",
      "2    3     Ebusua Dwarfs  90  60   60\n",
      "3    4  Sekondi Hassacas  80  43   55\n",
      "5    6     Tano Bofoakwa  70  50   49\n",
      "6    7         BA United  71  55   44\n",
      "Teams that scored less than 30 goals: \n",
      "   SNO           Team   GF  GA  PTS\n",
      "0    1  Hearts of Oak  120  35   80\n",
      "1    2  Asante Kotoko   90  55   60\n",
      "2    3  Ebusua Dwarfs   90  60   60\n",
      "Teams that had less than 60 points: \n",
      "   SNO              Team  GF  GA  PTS\n",
      "3    4  Sekondi Hassacas  80  43   55\n",
      "4    5     Okwahu United  78  39   53\n",
      "5    6     Tano Bofoakwa  70  50   49\n",
      "6    7         BA United  71  55   44\n"
     ]
    }
   ],
   "source": [
    "# d. Considering the following data and write a programme to capture the data in python.\n",
    "matches={\n",
    "    'SNO':[1,2,3,4,5,6,7],\n",
    "    'Team':['Hearts of Oak','Asante Kotoko','Ebusua Dwarfs','Sekondi Hassacas','Okwahu United','Tano Bofoakwa','BA United'],\n",
    "    'GF':[120,90,90,80,78,70,71],\n",
    "    'GA':[35,55,60,43,39,50,55],\n",
    "    'PTS':[80,60,60,55,53,49,44]\n",
    "}\n",
    "\n",
    "# i. printing the Team name along with Goals For (GF), Goals Against (GA) and Points (PTS)\n",
    "teams=pd.DataFrame(matches)\n",
    "# ii.Display the details of the team that:considered more than 30 goals\n",
    "print('Teams that considered more than 30 goals: ')\n",
    "print(teams[teams.GA > 40])\n",
    "\n",
    "\n",
    "# iii. Teams that scored less than 30 goals\n",
    "print('Teams that scored less than 30 goals: ')\n",
    "print(teams[teams.GF > 80])\n",
    "\n",
    "#iv. Teams that had less than 60 points\n",
    "print('Teams that had less than 60 points: ')\n",
    "print(teams[teams.PTS < 60])"
   ]
  },
  {
   "cell_type": "code",
   "execution_count": null,
   "id": "1a4ab6d8",
   "metadata": {},
   "outputs": [],
   "source": []
  },
  {
   "cell_type": "code",
   "execution_count": null,
   "id": "7000f1fe",
   "metadata": {},
   "outputs": [],
   "source": []
  }
 ],
 "metadata": {
  "kernelspec": {
   "display_name": "Python 3 (ipykernel)",
   "language": "python",
   "name": "python3"
  },
  "language_info": {
   "codemirror_mode": {
    "name": "ipython",
    "version": 3
   },
   "file_extension": ".py",
   "mimetype": "text/x-python",
   "name": "python",
   "nbconvert_exporter": "python",
   "pygments_lexer": "ipython3",
   "version": "3.9.7"
  }
 },
 "nbformat": 4,
 "nbformat_minor": 5
}
